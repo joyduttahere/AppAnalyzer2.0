{
  "nbformat": 4,
  "nbformat_minor": 0,
  "metadata": {
    "colab": {
      "provenance": [],
      "authorship_tag": "ABX9TyPTr+lBtyRXv4ZC+fMA1zwE",
      "include_colab_link": true
    },
    "kernelspec": {
      "name": "python3",
      "display_name": "Python 3"
    },
    "language_info": {
      "name": "python"
    }
  },
  "cells": [
    {
      "cell_type": "markdown",
      "metadata": {
        "id": "view-in-github",
        "colab_type": "text"
      },
      "source": [
        "<a href=\"https://colab.research.google.com/github/joyduttahere/AppAnalyzer2.0/blob/main/Share_AppAnalyzer2_0.ipynb\" target=\"_parent\"><img src=\"https://colab.research.google.com/assets/colab-badge.svg\" alt=\"Open In Colab\"/></a>"
      ]
    },
    {
      "cell_type": "markdown",
      "source": [
        "# App Analyzer 2.0: Setup & Launch Guide\n",
        "\n",
        "Welcome! This notebook will guide you through setting up and running the App Analyzer dashboard.\n",
        "\n",
        "---\n",
        "\n",
        "### **Step 1: Set the Correct Runtime (Crucial First Step!)**\n",
        "\n",
        "This application requires a GPU to run the sentiment analysis model efficiently.\n",
        "1. In the top menu, go to **Runtime → Change runtime type**.\n",
        "2. In the popup window, select **T4 GPU** from the \"Hardware accelerator\" dropdown.\n",
        "3. Click **Save**.\n",
        "\n",
        "---\n",
        "\n",
        "### **Step 2: Get Your 3 Required API Keys & Permissions**\n",
        "\n",
        "Before running any code, you must get the following free credentials and save them somewhere safe:\n",
        "\n",
        "**1. Hugging Face Access & Token:**\n",
        "   * **a) Get Your Token:** Go to your [Hugging Face Tokens page](https://huggingface.co/settings/tokens). Create a new token with **\"read\"** permissions.\n",
        "   * *(Note: Access to the sentiment model is public, so no special permissions are needed beyond having an account and token.)*\n",
        "\n",
        "**2. Google Gemini API Key:**\n",
        "   * Go to [Google AI Studio](https://aistudio.google.com/) and click **\"Get API key\"** -> **\"Create API key\"**.\n",
        "\n",
        "**3. ngrok Authtoken:**\n",
        "   * Sign up or log in at the [ngrok Dashboard](https://dashboard.ngrok.com/signup). Your authtoken is on the [\"Your Authtoken\" page](https://dashboard.ngrok.com/get-started/your-authtoken).\n",
        "\n",
        "---\n",
        "\n",
        "### **Step 3: Add Your Secret Keys**\n",
        "\n",
        "The cell below will not run correctly until you add your secret keys.\n",
        "\n",
        "1.  Click the **key icon (🔑)** in the left sidebar to open the Secrets Manager.\n",
        "2.  Click **\"Add a new secret\"** and create the following three secrets:\n",
        "    *   Name: `GEMINI_API_KEY` | Value: `(paste your Gemini key here)`\n",
        "    *   Name: `HF_TOKEN` | Value: `(paste your Hugging Face token here)`\n",
        "    *   Name: `NGROK_AUTHTOKEN` | Value: `(paste your ngrok authtoken here)`\n",
        "3.  Make sure the \"Notebook access\" toggle is **ON** for all three secrets.\n",
        "\n",
        "---\n",
        "\n",
        "### **Step 4: Run the Cells in Order**\n",
        "\n",
        "Now you are ready to run the code. Execute the following cells from top to bottom."
      ],
      "metadata": {
        "id": "im0JBlSp-6sd"
      }
    },
    {
      "cell_type": "code",
      "source": [
        "\n",
        "# Cell 1: Clone Repository & Install Dependencies\n",
        "import os\n",
        "\n",
        "# --- Clone the Repository ---\n",
        "if not os.path.exists('AppAnalyzer2.0'):\n",
        "    print(\"Cloning the AppAnalyzer2.0 repository...\")\n",
        "    !git clone https://github.com/YOUR_USERNAME/AppAnalyzer2.0.git\n",
        "%cd AppAnalyzer2.0\n",
        "\n",
        "print(\"\\n--- Installing all required packages ---\")\n",
        "\n",
        "# --- Upgrade pip and install all dependencies ---\n",
        "!pip install --upgrade pip -q\n",
        "!pip install -r requirements.txt -q\n",
        "!pip install google-generativeai pyngrok -q\n",
        "!pip install jedi==0.18.2 -q # To resolve potential Colab ipython conflicts\n",
        "\n",
        "print(\"\\n✅ Environment setup complete.\")"
      ],
      "metadata": {
        "id": "X90_2eYI_AKi"
      },
      "execution_count": null,
      "outputs": []
    },
    {
      "cell_type": "code",
      "source": [
        "# Cell 2: Set Environment Variables & Authenticate\n",
        "from google.colab import userdata\n",
        "import os\n",
        "\n",
        "print(\"Loading Colab secrets into environment variables...\")\n",
        "\n",
        "# --- Load secrets and set as environment variables for the app.py script ---\n",
        "try:\n",
        "    os.environ['NGROK_AUTHTOKEN'] = userdata.get('NGROK_AUTHTOKEN')\n",
        "    os.environ['HF_TOKEN'] = userdata.get('HF_TOKEN')\n",
        "    os.environ['GEMINI_API_KEY'] = userdata.get('GEMINI_API_KEY')\n",
        "    print(\"✅ Secrets loaded successfully.\")\n",
        "except Exception as e:\n",
        "    print(f\"⚠️ Warning: Could not load one or more secrets. Please ensure they are set correctly. Error: {e}\")\n",
        "\n",
        "# --- Authenticate with Hugging Face ---\n",
        "print(\"\\nLogging into Hugging Face Hub...\")\n",
        "# Use the environment variable for login\n",
        "!huggingface-cli login --token $HF_TOKEN\n",
        "print(\"\\nAuthentication step complete. Ready to launch.\")"
      ],
      "metadata": {
        "id": "WQ2WAXC8_Dcw"
      },
      "execution_count": null,
      "outputs": []
    },
    {
      "cell_type": "markdown",
      "source": [
        "---\n",
        "### **Step 5: Launch the Application**\n",
        "\n",
        "You're all set! Run the cell below to start the Flask web server. A public URL from `ngrok` will appear. Click on it to open the application in a new browser tab."
      ],
      "metadata": {
        "id": "P7TGhwpbdY-f"
      }
    },
    {
      "cell_type": "code",
      "source": [
        "# Cell 3: Run the Flask Application\n",
        "!python app.py"
      ],
      "metadata": {
        "id": "GQ0u6rw5_G0Y"
      },
      "execution_count": null,
      "outputs": []
    }
  ]
}